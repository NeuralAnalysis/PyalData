{
 "cells": [
  {
   "cell_type": "markdown",
   "metadata": {},
   "source": [
    "# Imports "
   ]
  },
  {
   "cell_type": "markdown",
   "metadata": {},
   "source": [
    "## general "
   ]
  },
  {
   "cell_type": "code",
   "execution_count": 1,
   "metadata": {},
   "outputs": [],
   "source": [
    "import pandas as pd\n",
    "import numpy as np\n",
    "import xarray as xr\n",
    "\n",
    "import os\n",
    "from tqdm.auto import tqdm\n",
    "\n",
    "import matplotlib.pyplot as plt\n",
    "import seaborn as sns"
   ]
  },
  {
   "cell_type": "markdown",
   "metadata": {},
   "source": [
    "## PyalData"
   ]
  },
  {
   "cell_type": "code",
   "execution_count": 2,
   "metadata": {},
   "outputs": [],
   "source": [
    "from pyaldata import *"
   ]
  },
  {
   "cell_type": "markdown",
   "metadata": {},
   "source": [
    "# Load data"
   ]
  },
  {
   "cell_type": "code",
   "execution_count": 3,
   "metadata": {},
   "outputs": [],
   "source": [
    "# TODO: add example data to the repo and run on that\n",
    "data_dir = \"/Users/bagibence/Box Sync/Imperial/data/\"\n",
    "fname = os.path.join(data_dir, \"Chewie_CO_CS_2016-10-21.mat\")"
   ]
  },
  {
   "cell_type": "code",
   "execution_count": 4,
   "metadata": {},
   "outputs": [],
   "source": [
    "# load TrialData .mat file into a DataFrame\n",
    "df = mat2dataframe(fname, shift_idx_fields=True)"
   ]
  },
  {
   "cell_type": "markdown",
   "metadata": {},
   "source": [
    "Each trial is a row in the dataframe\n",
    "\n",
    "By using `pandas` we get a lot of functionality for free."
   ]
  },
  {
   "cell_type": "code",
   "execution_count": 5,
   "metadata": {},
   "outputs": [
    {
     "data": {
      "text/html": [
       "<div>\n",
       "<style scoped>\n",
       "    .dataframe tbody tr th:only-of-type {\n",
       "        vertical-align: middle;\n",
       "    }\n",
       "\n",
       "    .dataframe tbody tr th {\n",
       "        vertical-align: top;\n",
       "    }\n",
       "\n",
       "    .dataframe thead th {\n",
       "        text-align: right;\n",
       "    }\n",
       "</style>\n",
       "<table border=\"1\" class=\"dataframe\">\n",
       "  <thead>\n",
       "    <tr style=\"text-align: right;\">\n",
       "      <th></th>\n",
       "      <th>monkey</th>\n",
       "      <th>date</th>\n",
       "      <th>task</th>\n",
       "      <th>target_direction</th>\n",
       "      <th>trial_id</th>\n",
       "      <th>result</th>\n",
       "      <th>bin_size</th>\n",
       "      <th>perturbation</th>\n",
       "      <th>perturbation_info</th>\n",
       "      <th>epoch</th>\n",
       "      <th>...</th>\n",
       "      <th>idx_peak_speed</th>\n",
       "      <th>idx_trial_end</th>\n",
       "      <th>pos</th>\n",
       "      <th>vel</th>\n",
       "      <th>acc</th>\n",
       "      <th>force</th>\n",
       "      <th>M1_spikes</th>\n",
       "      <th>M1_unit_guide</th>\n",
       "      <th>PMd_spikes</th>\n",
       "      <th>PMd_unit_guide</th>\n",
       "    </tr>\n",
       "  </thead>\n",
       "  <tbody>\n",
       "    <tr>\n",
       "      <th>0</th>\n",
       "      <td>Chewie</td>\n",
       "      <td>10-21-2016</td>\n",
       "      <td>CO</td>\n",
       "      <td>0.785398</td>\n",
       "      <td>1</td>\n",
       "      <td>R</td>\n",
       "      <td>0.01</td>\n",
       "      <td>CS</td>\n",
       "      <td>-0.52</td>\n",
       "      <td>BL</td>\n",
       "      <td>...</td>\n",
       "      <td>369</td>\n",
       "      <td>446</td>\n",
       "      <td>[[5.778064202616431, -35.397015549165786], [5....</td>\n",
       "      <td>[[-0.7793813732066821, 4.136785603960551], [-1...</td>\n",
       "      <td>[[-51.969786428074926, 14.202847093285325], [-...</td>\n",
       "      <td>[[0.12316992347195488, 0.2506054987408934], [0...</td>\n",
       "      <td>[[0, 0, 0, 0, 0, 0, 0, 0, 0, 0, 0, 0, 1, 1, 0,...</td>\n",
       "      <td>[[1, 1], [1, 2], [3, 1], [5, 1], [5, 2], [7, 1...</td>\n",
       "      <td>[[0, 0, 0, 0, 0, 0, 0, 0, 0, 0, 0, 0, 0, 0, 0,...</td>\n",
       "      <td>[[1, 1], [1, 2], [1, 3], [4, 1], [4, 2], [5, 1...</td>\n",
       "    </tr>\n",
       "    <tr>\n",
       "      <th>1</th>\n",
       "      <td>Chewie</td>\n",
       "      <td>10-21-2016</td>\n",
       "      <td>CO</td>\n",
       "      <td>1.570796</td>\n",
       "      <td>2</td>\n",
       "      <td>R</td>\n",
       "      <td>0.01</td>\n",
       "      <td>CS</td>\n",
       "      <td>-0.52</td>\n",
       "      <td>BL</td>\n",
       "      <td>...</td>\n",
       "      <td>312</td>\n",
       "      <td>374</td>\n",
       "      <td>[[5.749738457404149, -24.643406091404042], [5....</td>\n",
       "      <td>[[1.9163909188240478, -2.763349295373866], [1....</td>\n",
       "      <td>[[-36.779409320972285, 1.7821809867372298], [-...</td>\n",
       "      <td>[[0.3685575721810173, 0.17911060954700603], [0...</td>\n",
       "      <td>[[0, 0, 0, 0, 0, 0, 0, 0, 0, 0, 0, 0, 0, 0, 0,...</td>\n",
       "      <td>[[1, 1], [1, 2], [3, 1], [5, 1], [5, 2], [7, 1...</td>\n",
       "      <td>[[0, 0, 0, 0, 0, 0, 0, 0, 0, 0, 0, 0, 0, 0, 0,...</td>\n",
       "      <td>[[1, 1], [1, 2], [1, 3], [4, 1], [4, 2], [5, 1...</td>\n",
       "    </tr>\n",
       "    <tr>\n",
       "      <th>2</th>\n",
       "      <td>Chewie</td>\n",
       "      <td>10-21-2016</td>\n",
       "      <td>CO</td>\n",
       "      <td>-1.570796</td>\n",
       "      <td>3</td>\n",
       "      <td>R</td>\n",
       "      <td>0.01</td>\n",
       "      <td>CS</td>\n",
       "      <td>-0.52</td>\n",
       "      <td>BL</td>\n",
       "      <td>...</td>\n",
       "      <td>341</td>\n",
       "      <td>405</td>\n",
       "      <td>[[-0.08846028882207335, -21.796383214740942], ...</td>\n",
       "      <td>[[0.6600912719115256, -4.014682191879345], [0....</td>\n",
       "      <td>[[15.812499710917256, 16.621785484272777], [10...</td>\n",
       "      <td>[[0.3523246575179767, -0.09122904723894733], [...</td>\n",
       "      <td>[[0, 0, 0, 0, 0, 0, 0, 0, 0, 0, 0, 0, 0, 0, 1,...</td>\n",
       "      <td>[[1, 1], [1, 2], [3, 1], [5, 1], [5, 2], [7, 1...</td>\n",
       "      <td>[[0, 0, 0, 0, 0, 0, 0, 0, 0, 0, 0, 0, 0, 0, 0,...</td>\n",
       "      <td>[[1, 1], [1, 2], [1, 3], [4, 1], [4, 2], [5, 1...</td>\n",
       "    </tr>\n",
       "    <tr>\n",
       "      <th>3</th>\n",
       "      <td>Chewie</td>\n",
       "      <td>10-21-2016</td>\n",
       "      <td>CO</td>\n",
       "      <td>3.141593</td>\n",
       "      <td>4</td>\n",
       "      <td>R</td>\n",
       "      <td>0.01</td>\n",
       "      <td>CS</td>\n",
       "      <td>-0.52</td>\n",
       "      <td>BL</td>\n",
       "      <td>...</td>\n",
       "      <td>269</td>\n",
       "      <td>326</td>\n",
       "      <td>[[0.2044172614704891, -37.980265533779594], [0...</td>\n",
       "      <td>[[4.529933995107801, 4.629844429981232], [4.06...</td>\n",
       "      <td>[[-39.8450200830264, 25.037788333969146], [-48...</td>\n",
       "      <td>[[0.16886748091580156, 0.07539164418520175], [...</td>\n",
       "      <td>[[0, 1, 1, 0, 0, 1, 0, 0, 0, 0, 1, 0, 0, 0, 0,...</td>\n",
       "      <td>[[1, 1], [1, 2], [3, 1], [5, 1], [5, 2], [7, 1...</td>\n",
       "      <td>[[0, 0, 0, 0, 0, 0, 0, 0, 0, 0, 0, 0, 0, 0, 0,...</td>\n",
       "      <td>[[1, 1], [1, 2], [1, 3], [4, 1], [4, 2], [5, 1...</td>\n",
       "    </tr>\n",
       "    <tr>\n",
       "      <th>4</th>\n",
       "      <td>Chewie</td>\n",
       "      <td>10-21-2016</td>\n",
       "      <td>CO</td>\n",
       "      <td>-2.356194</td>\n",
       "      <td>5</td>\n",
       "      <td>R</td>\n",
       "      <td>0.01</td>\n",
       "      <td>CS</td>\n",
       "      <td>-0.52</td>\n",
       "      <td>BL</td>\n",
       "      <td>...</td>\n",
       "      <td>347</td>\n",
       "      <td>414</td>\n",
       "      <td>[[-8.487759048702024, -29.610739441410566], [-...</td>\n",
       "      <td>[[3.3872550577518203, -0.3581721292107508], [4...</td>\n",
       "      <td>[[88.37767895758228, -30.26694467609077], [95....</td>\n",
       "      <td>[[0.5500420770141063, -0.39266117674997386], [...</td>\n",
       "      <td>[[0, 0, 0, 1, 1, 1, 0, 0, 0, 1, 0, 0, 0, 0, 0,...</td>\n",
       "      <td>[[1, 1], [1, 2], [3, 1], [5, 1], [5, 2], [7, 1...</td>\n",
       "      <td>[[1, 0, 0, 0, 0, 0, 0, 0, 0, 0, 0, 0, 0, 0, 0,...</td>\n",
       "      <td>[[1, 1], [1, 2], [1, 3], [4, 1], [4, 2], [5, 1...</td>\n",
       "    </tr>\n",
       "  </tbody>\n",
       "</table>\n",
       "<p>5 rows × 24 columns</p>\n",
       "</div>"
      ],
      "text/plain": [
       "   monkey        date task  target_direction  trial_id result  bin_size  \\\n",
       "0  Chewie  10-21-2016   CO          0.785398         1      R      0.01   \n",
       "1  Chewie  10-21-2016   CO          1.570796         2      R      0.01   \n",
       "2  Chewie  10-21-2016   CO         -1.570796         3      R      0.01   \n",
       "3  Chewie  10-21-2016   CO          3.141593         4      R      0.01   \n",
       "4  Chewie  10-21-2016   CO         -2.356194         5      R      0.01   \n",
       "\n",
       "  perturbation  perturbation_info epoch  ...  idx_peak_speed  idx_trial_end  \\\n",
       "0           CS              -0.52    BL  ...             369            446   \n",
       "1           CS              -0.52    BL  ...             312            374   \n",
       "2           CS              -0.52    BL  ...             341            405   \n",
       "3           CS              -0.52    BL  ...             269            326   \n",
       "4           CS              -0.52    BL  ...             347            414   \n",
       "\n",
       "                                                 pos  \\\n",
       "0  [[5.778064202616431, -35.397015549165786], [5....   \n",
       "1  [[5.749738457404149, -24.643406091404042], [5....   \n",
       "2  [[-0.08846028882207335, -21.796383214740942], ...   \n",
       "3  [[0.2044172614704891, -37.980265533779594], [0...   \n",
       "4  [[-8.487759048702024, -29.610739441410566], [-...   \n",
       "\n",
       "                                                 vel  \\\n",
       "0  [[-0.7793813732066821, 4.136785603960551], [-1...   \n",
       "1  [[1.9163909188240478, -2.763349295373866], [1....   \n",
       "2  [[0.6600912719115256, -4.014682191879345], [0....   \n",
       "3  [[4.529933995107801, 4.629844429981232], [4.06...   \n",
       "4  [[3.3872550577518203, -0.3581721292107508], [4...   \n",
       "\n",
       "                                                 acc  \\\n",
       "0  [[-51.969786428074926, 14.202847093285325], [-...   \n",
       "1  [[-36.779409320972285, 1.7821809867372298], [-...   \n",
       "2  [[15.812499710917256, 16.621785484272777], [10...   \n",
       "3  [[-39.8450200830264, 25.037788333969146], [-48...   \n",
       "4  [[88.37767895758228, -30.26694467609077], [95....   \n",
       "\n",
       "                                               force  \\\n",
       "0  [[0.12316992347195488, 0.2506054987408934], [0...   \n",
       "1  [[0.3685575721810173, 0.17911060954700603], [0...   \n",
       "2  [[0.3523246575179767, -0.09122904723894733], [...   \n",
       "3  [[0.16886748091580156, 0.07539164418520175], [...   \n",
       "4  [[0.5500420770141063, -0.39266117674997386], [...   \n",
       "\n",
       "                                           M1_spikes  \\\n",
       "0  [[0, 0, 0, 0, 0, 0, 0, 0, 0, 0, 0, 0, 1, 1, 0,...   \n",
       "1  [[0, 0, 0, 0, 0, 0, 0, 0, 0, 0, 0, 0, 0, 0, 0,...   \n",
       "2  [[0, 0, 0, 0, 0, 0, 0, 0, 0, 0, 0, 0, 0, 0, 1,...   \n",
       "3  [[0, 1, 1, 0, 0, 1, 0, 0, 0, 0, 1, 0, 0, 0, 0,...   \n",
       "4  [[0, 0, 0, 1, 1, 1, 0, 0, 0, 1, 0, 0, 0, 0, 0,...   \n",
       "\n",
       "                                       M1_unit_guide  \\\n",
       "0  [[1, 1], [1, 2], [3, 1], [5, 1], [5, 2], [7, 1...   \n",
       "1  [[1, 1], [1, 2], [3, 1], [5, 1], [5, 2], [7, 1...   \n",
       "2  [[1, 1], [1, 2], [3, 1], [5, 1], [5, 2], [7, 1...   \n",
       "3  [[1, 1], [1, 2], [3, 1], [5, 1], [5, 2], [7, 1...   \n",
       "4  [[1, 1], [1, 2], [3, 1], [5, 1], [5, 2], [7, 1...   \n",
       "\n",
       "                                          PMd_spikes  \\\n",
       "0  [[0, 0, 0, 0, 0, 0, 0, 0, 0, 0, 0, 0, 0, 0, 0,...   \n",
       "1  [[0, 0, 0, 0, 0, 0, 0, 0, 0, 0, 0, 0, 0, 0, 0,...   \n",
       "2  [[0, 0, 0, 0, 0, 0, 0, 0, 0, 0, 0, 0, 0, 0, 0,...   \n",
       "3  [[0, 0, 0, 0, 0, 0, 0, 0, 0, 0, 0, 0, 0, 0, 0,...   \n",
       "4  [[1, 0, 0, 0, 0, 0, 0, 0, 0, 0, 0, 0, 0, 0, 0,...   \n",
       "\n",
       "                                      PMd_unit_guide  \n",
       "0  [[1, 1], [1, 2], [1, 3], [4, 1], [4, 2], [5, 1...  \n",
       "1  [[1, 1], [1, 2], [1, 3], [4, 1], [4, 2], [5, 1...  \n",
       "2  [[1, 1], [1, 2], [1, 3], [4, 1], [4, 2], [5, 1...  \n",
       "3  [[1, 1], [1, 2], [1, 3], [4, 1], [4, 2], [5, 1...  \n",
       "4  [[1, 1], [1, 2], [1, 3], [4, 1], [4, 2], [5, 1...  \n",
       "\n",
       "[5 rows x 24 columns]"
      ]
     },
     "execution_count": 5,
     "metadata": {},
     "output_type": "execute_result"
    }
   ],
   "source": [
    "df.head()"
   ]
  },
  {
   "cell_type": "markdown",
   "metadata": {},
   "source": [
    "# Preprocess "
   ]
  },
  {
   "cell_type": "markdown",
   "metadata": {},
   "source": [
    "## combine time-bins into longer ones"
   ]
  },
  {
   "cell_type": "markdown",
   "metadata": {},
   "source": [
    "Every function that returns a trial_data dataframe works on and returns a copy, so the original dataframe is not changed."
   ]
  },
  {
   "cell_type": "code",
   "execution_count": 6,
   "metadata": {},
   "outputs": [
    {
     "name": "stdout",
     "output_type": "stream",
     "text": [
      "0    0.01\n",
      "1    0.01\n",
      "2    0.01\n",
      "3    0.01\n",
      "4    0.01\n",
      "Name: bin_size, dtype: float64\n",
      "\n",
      "0    0.02\n",
      "1    0.02\n",
      "2    0.02\n",
      "3    0.02\n",
      "4    0.02\n",
      "Name: bin_size, dtype: float64\n"
     ]
    }
   ],
   "source": [
    "td = combine_time_bins(df, 2)\n",
    "\n",
    "print(df.head().bin_size)\n",
    "print()\n",
    "print(td.head().bin_size)"
   ]
  },
  {
   "cell_type": "markdown",
   "metadata": {},
   "source": [
    "Time-varying signals have new time coordinates"
   ]
  },
  {
   "cell_type": "code",
   "execution_count": 7,
   "metadata": {},
   "outputs": [
    {
     "name": "stdout",
     "output_type": "stream",
     "text": [
      "original:  (457, 84)\n",
      "combined:  (228, 84)\n"
     ]
    }
   ],
   "source": [
    "print(\"original: \", df.M1_spikes[0].shape)\n",
    "print(\"combined: \", td.M1_spikes[0].shape)"
   ]
  },
  {
   "cell_type": "markdown",
   "metadata": {},
   "source": [
    "## Remove low-firing neurons "
   ]
  },
  {
   "cell_type": "code",
   "execution_count": 8,
   "metadata": {},
   "outputs": [
    {
     "name": "stdout",
     "output_type": "stream",
     "text": [
      "original:  (457, 84)\n",
      "removed:   (228, 63)\n"
     ]
    },
    {
     "name": "stderr",
     "output_type": "stream",
     "text": [
      "/Users/bagibence/Box Sync/Imperial/PyalData/pyaldata/tools.py:738: UserWarning: Assuming spikes are actually spikes and dividing by bin size.\n",
      "  utils.warnings.warn(\"Assuming spikes are actually spikes and dividing by bin size.\")\n",
      "/Users/bagibence/Box Sync/Imperial/PyalData/pyaldata/tools.py:738: UserWarning: Assuming spikes are actually spikes and dividing by bin size.\n",
      "  utils.warnings.warn(\"Assuming spikes are actually spikes and dividing by bin size.\")\n"
     ]
    }
   ],
   "source": [
    "td = remove_low_firing_neurons(td, \"M1_spikes\",  5)\n",
    "td = remove_low_firing_neurons(td, \"PMd_spikes\", 5)\n",
    "\n",
    "print(\"original: \", df.M1_spikes[0].shape)\n",
    "print(\"removed:  \", td.M1_spikes[0].shape)"
   ]
  },
  {
   "cell_type": "markdown",
   "metadata": {},
   "source": [
    "## Transform signals"
   ]
  },
  {
   "cell_type": "code",
   "execution_count": 9,
   "metadata": {},
   "outputs": [
    {
     "data": {
      "text/plain": [
       "array([[0.        , 0.        , 0.        , ..., 1.41421356, 0.        ,\n",
       "        0.        ],\n",
       "       [0.        , 1.        , 1.        , ..., 0.        , 1.        ,\n",
       "        0.        ],\n",
       "       [0.        , 1.        , 0.        , ..., 1.        , 0.        ,\n",
       "        1.        ],\n",
       "       ...,\n",
       "       [0.        , 1.        , 0.        , ..., 0.        , 1.        ,\n",
       "        0.        ],\n",
       "       [0.        , 0.        , 0.        , ..., 0.        , 0.        ,\n",
       "        0.        ],\n",
       "       [0.        , 1.        , 0.        , ..., 1.41421356, 1.        ,\n",
       "        0.        ]])"
      ]
     },
     "execution_count": 9,
     "metadata": {},
     "output_type": "execute_result"
    }
   ],
   "source": [
    "td = transform_signal(td, \"M1_spikes\",  'sqrt')\n",
    "td = transform_signal(td, \"PMd_spikes\", 'sqrt')\n",
    "\n",
    "# alternatively\n",
    "# td = sqrt_transform_signal(td, \"M1_spikes\", \"sqrt\")\n",
    "\n",
    "td.M1_spikes[0]"
   ]
  },
  {
   "cell_type": "markdown",
   "metadata": {},
   "source": [
    "For other transforms see the docstring of `transform_signal` (and the code)."
   ]
  },
  {
   "cell_type": "markdown",
   "metadata": {},
   "source": [
    "## Merge signals from multiple areas "
   ]
  },
  {
   "cell_type": "code",
   "execution_count": 10,
   "metadata": {},
   "outputs": [
    {
     "name": "stdout",
     "output_type": "stream",
     "text": [
      "Merging M1 and PMd gives 63 + 109 = 172 neurons\n"
     ]
    }
   ],
   "source": [
    "td = merge_signals(td, [\"M1_spikes\", \"PMd_spikes\"], \"both_spikes\")\n",
    "\n",
    "print(f\"Merging M1 and PMd gives {td.M1_spikes[0].shape[1]} + {td.PMd_spikes[0].shape[1]} = {td.both_spikes[0].shape[1]} neurons\")"
   ]
  },
  {
   "cell_type": "markdown",
   "metadata": {},
   "source": [
    "## Calculate firing rates from spikes "
   ]
  },
  {
   "cell_type": "code",
   "execution_count": 11,
   "metadata": {},
   "outputs": [],
   "source": [
    "# works on \"_spikes\" fields and automatically divides by bin_size\n",
    "td = add_firing_rates(td, 'smooth')"
   ]
  },
  {
   "cell_type": "markdown",
   "metadata": {},
   "source": [
    "For other fields use `smooth_signals`"
   ]
  },
  {
   "cell_type": "markdown",
   "metadata": {},
   "source": [
    "Internally we use `numpy` arrays for generality but working with `xarray` can save you a lot of headaches and thinking."
   ]
  },
  {
   "cell_type": "code",
   "execution_count": 12,
   "metadata": {},
   "outputs": [
    {
     "data": {
      "text/plain": [
       "<matplotlib.collections.QuadMesh at 0x14473b700>"
      ]
     },
     "execution_count": 12,
     "metadata": {},
     "output_type": "execute_result"
    },
    {
     "data": {
      "image/png": "[encoded data removed]",
      "text/plain": [
       "<Figure size 1440x432 with 4 Axes>"
      ]
     },
     "metadata": {
      "needs_background": "light"
     },
     "output_type": "display_data"
    }
   ],
   "source": [
    "fig, ax = plt.subplots(figsize = (20, 6), ncols = 2)\n",
    "\n",
    "xr.DataArray(td.M1_spikes[0], dims = ['time', 'neuron']).transpose('neuron', 'time').plot(ax=ax[0])\n",
    "xr.DataArray(td.M1_rates[0],  dims = ['time', 'neuron']).transpose('neuron', 'time').plot(ax=ax[1])"
   ]
  },
  {
   "cell_type": "markdown",
   "metadata": {},
   "source": [
    "## Keep only the successful trials"
   ]
  },
  {
   "cell_type": "code",
   "execution_count": 13,
   "metadata": {},
   "outputs": [
    {
     "name": "stdout",
     "output_type": "stream",
     "text": [
      "all trials: 293\n",
      "successful trials: 286\n"
     ]
    }
   ],
   "source": [
    "print(\"all trials:\", td.shape[0])\n",
    "\n",
    "td = select_trials(td, \"result == 'R'\")\n",
    "\n",
    "print(\"successful trials:\", td.shape[0])"
   ]
  },
  {
   "cell_type": "markdown",
   "metadata": {},
   "source": [
    "## Restrict time to an interval"
   ]
  },
  {
   "cell_type": "code",
   "execution_count": 14,
   "metadata": {},
   "outputs": [
    {
     "name": "stdout",
     "output_type": "stream",
     "text": [
      "first trial's length in full: (228, 172)\n",
      "first trial's length in the new dataframe: (41, 172)\n"
     ]
    }
   ],
   "source": [
    "move_td = restrict_to_interval(td, \"idx_movement_on\", end_point_name=None, rel_start=0, rel_end=40)\n",
    "\n",
    "print(\"first trial's length in full:\", td.both_rates[0].shape)\n",
    "print(\"first trial's length in the new dataframe:\", move_td.both_rates[0].shape)"
   ]
  },
  {
   "cell_type": "markdown",
   "metadata": {},
   "source": [
    "# Dimensionality reduction"
   ]
  },
  {
   "cell_type": "markdown",
   "metadata": {},
   "source": [
    "## Further preprocess by subtracting cross-condition mean "
   ]
  },
  {
   "cell_type": "code",
   "execution_count": 15,
   "metadata": {},
   "outputs": [],
   "source": [
    "# aka center per time point\n",
    "move_td = subtract_cross_condition_mean(move_td)"
   ]
  },
  {
   "cell_type": "markdown",
   "metadata": {},
   "source": [
    "## Apply PCA and FA "
   ]
  },
  {
   "cell_type": "code",
   "execution_count": 16,
   "metadata": {},
   "outputs": [],
   "source": [
    "from sklearn.decomposition import PCA, FactorAnalysis"
   ]
  },
  {
   "cell_type": "code",
   "execution_count": 17,
   "metadata": {},
   "outputs": [],
   "source": [
    "pca_dims = 30\n",
    "fa_dims = 2\n",
    "\n",
    "move_td = dim_reduce(move_td, PCA(pca_dims), \"both_rates\", \"both_pca\")\n",
    "move_td = dim_reduce(move_td, FactorAnalysis(fa_dims), \"both_rates\", \"both_fa\")"
   ]
  },
  {
   "cell_type": "code",
   "execution_count": 18,
   "metadata": {},
   "outputs": [
    {
     "name": "stdout",
     "output_type": "stream",
     "text": [
      "Reduced from 172 dimensions to 30\n"
     ]
    }
   ],
   "source": [
    "print(f\"Reduced from {move_td['both_rates'][0].shape[1]} dimensions to {move_td['both_pca'][0].shape[1]}\")"
   ]
  },
  {
   "cell_type": "markdown",
   "metadata": {},
   "source": [
    "## Calculate target ID from target direction"
   ]
  },
  {
   "cell_type": "code",
   "execution_count": 19,
   "metadata": {},
   "outputs": [],
   "source": [
    "def get_target_id(trial):\n",
    "    return int(np.round((trial.target_direction + np.pi) / (0.25*np.pi))) - 1\n",
    "\n",
    "# using pandas apply\n",
    "move_td[\"target_id\"] = move_td.apply(get_target_id, axis=1)\n",
    "\n",
    "# using a list comprehension\n",
    "#move_td[\"target_id\"] = [get_target_id(trial) for (i, trial) in df.iterrows()]"
   ]
  },
  {
   "cell_type": "markdown",
   "metadata": {},
   "source": [
    "## Trial averaging "
   ]
  },
  {
   "cell_type": "markdown",
   "metadata": {},
   "source": [
    "### Group by `target_id` and average"
   ]
  },
  {
   "cell_type": "code",
   "execution_count": 20,
   "metadata": {},
   "outputs": [
    {
     "name": "stderr",
     "output_type": "stream",
     "text": [
      "/Users/bagibence/Box Sync/Imperial/PyalData/pyaldata/tools.py:659: FutureWarning: Dropping of nuisance columns in DataFrame reductions (with 'numeric_only=None') is deprecated; in a future version this will raise TypeError.  Select only valid columns before calling the reduction.\n",
      "  av_df = trial_data.mean()\n"
     ]
    }
   ],
   "source": [
    "av_per_dir = trial_average(move_td, \"target_id\")"
   ]
  },
  {
   "cell_type": "code",
   "execution_count": 21,
   "metadata": {},
   "outputs": [
    {
     "data": {
      "text/html": [
       "<div>\n",
       "<style scoped>\n",
       "    .dataframe tbody tr th:only-of-type {\n",
       "        vertical-align: middle;\n",
       "    }\n",
       "\n",
       "    .dataframe tbody tr th {\n",
       "        vertical-align: top;\n",
       "    }\n",
       "\n",
       "    .dataframe thead th {\n",
       "        text-align: right;\n",
       "    }\n",
       "</style>\n",
       "<table border=\"1\" class=\"dataframe\">\n",
       "  <thead>\n",
       "    <tr style=\"text-align: right;\">\n",
       "      <th></th>\n",
       "      <th>target_direction</th>\n",
       "      <th>bin_size</th>\n",
       "      <th>perturbation_info</th>\n",
       "      <th>idx_trial_start</th>\n",
       "      <th>idx_target_on</th>\n",
       "      <th>idx_go_cue</th>\n",
       "      <th>idx_movement_on</th>\n",
       "      <th>idx_peak_speed</th>\n",
       "      <th>idx_trial_end</th>\n",
       "      <th>target_id</th>\n",
       "      <th>...</th>\n",
       "      <th>PMd_rates</th>\n",
       "      <th>both_rates</th>\n",
       "      <th>both_pca</th>\n",
       "      <th>both_fa</th>\n",
       "      <th>monkey</th>\n",
       "      <th>date</th>\n",
       "      <th>task</th>\n",
       "      <th>result</th>\n",
       "      <th>perturbation</th>\n",
       "      <th>epoch</th>\n",
       "    </tr>\n",
       "  </thead>\n",
       "  <tbody>\n",
       "    <tr>\n",
       "      <th>0</th>\n",
       "      <td>-2.356194</td>\n",
       "      <td>0.02</td>\n",
       "      <td>-0.52</td>\n",
       "      <td>NaN</td>\n",
       "      <td>NaN</td>\n",
       "      <td>NaN</td>\n",
       "      <td>0.0</td>\n",
       "      <td>8.394737</td>\n",
       "      <td>39.064516</td>\n",
       "      <td>0.0</td>\n",
       "      <td>...</td>\n",
       "      <td>[[-1.9331131, -1.2877556, 3.469638, 0.86549777...</td>\n",
       "      <td>[[-1.3696721, -8.17678, -1.8215902, 7.19406, 1...</td>\n",
       "      <td>[[-32.922714, -24.742195, 47.323624, 24.066544...</td>\n",
       "      <td>[[-0.9041335476682101, 1.1857762358102781], [-...</td>\n",
       "      <td>Chewie</td>\n",
       "      <td>10-21-2016</td>\n",
       "      <td>CO</td>\n",
       "      <td>R</td>\n",
       "      <td>CS</td>\n",
       "      <td>BL</td>\n",
       "    </tr>\n",
       "    <tr>\n",
       "      <th>1</th>\n",
       "      <td>-1.570796</td>\n",
       "      <td>0.02</td>\n",
       "      <td>-0.52</td>\n",
       "      <td>NaN</td>\n",
       "      <td>NaN</td>\n",
       "      <td>NaN</td>\n",
       "      <td>0.0</td>\n",
       "      <td>8.970588</td>\n",
       "      <td>40.285714</td>\n",
       "      <td>1.0</td>\n",
       "      <td>...</td>\n",
       "      <td>[[0.33068848, 0.30995515, 0.9786288, 1.8274931...</td>\n",
       "      <td>[[-1.5509497, -14.624845, -4.9466634, 15.8591,...</td>\n",
       "      <td>[[-1.7885847, -40.959232, 16.713455, -17.95227...</td>\n",
       "      <td>[[0.08670247576651634, 1.5814679452466864], [0...</td>\n",
       "      <td>Chewie</td>\n",
       "      <td>10-21-2016</td>\n",
       "      <td>CO</td>\n",
       "      <td>R</td>\n",
       "      <td>CS</td>\n",
       "      <td>BL</td>\n",
       "    </tr>\n",
       "    <tr>\n",
       "      <th>2</th>\n",
       "      <td>-0.785398</td>\n",
       "      <td>0.02</td>\n",
       "      <td>-0.52</td>\n",
       "      <td>NaN</td>\n",
       "      <td>NaN</td>\n",
       "      <td>NaN</td>\n",
       "      <td>0.0</td>\n",
       "      <td>9.263158</td>\n",
       "      <td>40.300000</td>\n",
       "      <td>2.0</td>\n",
       "      <td>...</td>\n",
       "      <td>[[2.144005, 3.0662735, -3.5667226, 0.4211937, ...</td>\n",
       "      <td>[[-0.39272383, -15.861117, 9.409875, 12.297246...</td>\n",
       "      <td>[[47.578182, -27.193237, -20.011093, -44.67074...</td>\n",
       "      <td>[[1.5625152230599333, 0.7709368620787732], [1....</td>\n",
       "      <td>Chewie</td>\n",
       "      <td>10-21-2016</td>\n",
       "      <td>CO</td>\n",
       "      <td>R</td>\n",
       "      <td>CS</td>\n",
       "      <td>BL</td>\n",
       "    </tr>\n",
       "    <tr>\n",
       "      <th>3</th>\n",
       "      <td>0.000000</td>\n",
       "      <td>0.02</td>\n",
       "      <td>-0.52</td>\n",
       "      <td>NaN</td>\n",
       "      <td>NaN</td>\n",
       "      <td>NaN</td>\n",
       "      <td>0.0</td>\n",
       "      <td>10.470588</td>\n",
       "      <td>41.000000</td>\n",
       "      <td>3.0</td>\n",
       "      <td>...</td>\n",
       "      <td>[[0.6689262, 1.9378995, -4.930554, -0.5777424,...</td>\n",
       "      <td>[[-0.7390504, -15.127533, 11.634172, 4.7115192...</td>\n",
       "      <td>[[60.19686, 5.285289, -37.22927, -27.143848, 2...</td>\n",
       "      <td>[[1.8338326505312492, -0.6221665423090551], [1...</td>\n",
       "      <td>Chewie</td>\n",
       "      <td>10-21-2016</td>\n",
       "      <td>CO</td>\n",
       "      <td>R</td>\n",
       "      <td>CS</td>\n",
       "      <td>BL</td>\n",
       "    </tr>\n",
       "    <tr>\n",
       "      <th>4</th>\n",
       "      <td>0.785398</td>\n",
       "      <td>0.02</td>\n",
       "      <td>-0.52</td>\n",
       "      <td>NaN</td>\n",
       "      <td>NaN</td>\n",
       "      <td>NaN</td>\n",
       "      <td>0.0</td>\n",
       "      <td>10.030303</td>\n",
       "      <td>40.000000</td>\n",
       "      <td>4.0</td>\n",
       "      <td>...</td>\n",
       "      <td>[[0.042261917, 2.6737514, -3.1072714, 0.273100...</td>\n",
       "      <td>[[0.24680635, 0.73268855, -3.4790142, -6.45236...</td>\n",
       "      <td>[[31.774359, 35.224438, -35.440796, -8.243879,...</td>\n",
       "      <td>[[0.8343858724865177, -1.5313603161797413], [0...</td>\n",
       "      <td>Chewie</td>\n",
       "      <td>10-21-2016</td>\n",
       "      <td>CO</td>\n",
       "      <td>R</td>\n",
       "      <td>CS</td>\n",
       "      <td>BL</td>\n",
       "    </tr>\n",
       "    <tr>\n",
       "      <th>5</th>\n",
       "      <td>1.570796</td>\n",
       "      <td>0.02</td>\n",
       "      <td>-0.52</td>\n",
       "      <td>NaN</td>\n",
       "      <td>NaN</td>\n",
       "      <td>NaN</td>\n",
       "      <td>0.0</td>\n",
       "      <td>12.888889</td>\n",
       "      <td>39.666667</td>\n",
       "      <td>5.0</td>\n",
       "      <td>...</td>\n",
       "      <td>[[-0.2938753, -3.2735667, 1.4363017, 0.2449956...</td>\n",
       "      <td>[[3.4484403, 16.93619, -8.270878, -14.445685, ...</td>\n",
       "      <td>[[-17.862932, 29.011406, -21.16739, 10.490464,...</td>\n",
       "      <td>[[-0.5809288659235798, -1.0807256575497501], [...</td>\n",
       "      <td>Chewie</td>\n",
       "      <td>10-21-2016</td>\n",
       "      <td>CO</td>\n",
       "      <td>R</td>\n",
       "      <td>CS</td>\n",
       "      <td>BL</td>\n",
       "    </tr>\n",
       "    <tr>\n",
       "      <th>6</th>\n",
       "      <td>2.356194</td>\n",
       "      <td>0.02</td>\n",
       "      <td>-0.52</td>\n",
       "      <td>NaN</td>\n",
       "      <td>NaN</td>\n",
       "      <td>NaN</td>\n",
       "      <td>0.0</td>\n",
       "      <td>12.891892</td>\n",
       "      <td>NaN</td>\n",
       "      <td>6.0</td>\n",
       "      <td>...</td>\n",
       "      <td>[[-0.9304319, -3.1829326, 1.9320976, -1.714278...</td>\n",
       "      <td>[[0.4684663, 18.64558, -4.3074555, -12.951932,...</td>\n",
       "      <td>[[-39.425865, 17.902576, 9.745048, 29.048752, ...</td>\n",
       "      <td>[[-1.2916735978512655, -0.47395377971953057], ...</td>\n",
       "      <td>Chewie</td>\n",
       "      <td>10-21-2016</td>\n",
       "      <td>CO</td>\n",
       "      <td>R</td>\n",
       "      <td>CS</td>\n",
       "      <td>BL</td>\n",
       "    </tr>\n",
       "    <tr>\n",
       "      <th>7</th>\n",
       "      <td>3.141593</td>\n",
       "      <td>0.02</td>\n",
       "      <td>-0.52</td>\n",
       "      <td>NaN</td>\n",
       "      <td>NaN</td>\n",
       "      <td>NaN</td>\n",
       "      <td>0.0</td>\n",
       "      <td>10.111111</td>\n",
       "      <td>39.809524</td>\n",
       "      <td>7.0</td>\n",
       "      <td>...</td>\n",
       "      <td>[[0.044720784, 0.09366846, 3.261114, -1.271927...</td>\n",
       "      <td>[[-0.13307306, 16.701473, 1.5612606, -6.329913...</td>\n",
       "      <td>[[-41.375572, 8.812376, 34.18511, 31.550438, -...</td>\n",
       "      <td>[[-1.365168823147739, 0.00016719903199101846],...</td>\n",
       "      <td>Chewie</td>\n",
       "      <td>10-21-2016</td>\n",
       "      <td>CO</td>\n",
       "      <td>R</td>\n",
       "      <td>CS</td>\n",
       "      <td>BL</td>\n",
       "    </tr>\n",
       "  </tbody>\n",
       "</table>\n",
       "<p>8 rows × 30 columns</p>\n",
       "</div>"
      ],
      "text/plain": [
       "   target_direction  bin_size  perturbation_info  idx_trial_start  \\\n",
       "0         -2.356194      0.02              -0.52              NaN   \n",
       "1         -1.570796      0.02              -0.52              NaN   \n",
       "2         -0.785398      0.02              -0.52              NaN   \n",
       "3          0.000000      0.02              -0.52              NaN   \n",
       "4          0.785398      0.02              -0.52              NaN   \n",
       "5          1.570796      0.02              -0.52              NaN   \n",
       "6          2.356194      0.02              -0.52              NaN   \n",
       "7          3.141593      0.02              -0.52              NaN   \n",
       "\n",
       "   idx_target_on  idx_go_cue  idx_movement_on  idx_peak_speed  idx_trial_end  \\\n",
       "0            NaN         NaN              0.0        8.394737      39.064516   \n",
       "1            NaN         NaN              0.0        8.970588      40.285714   \n",
       "2            NaN         NaN              0.0        9.263158      40.300000   \n",
       "3            NaN         NaN              0.0       10.470588      41.000000   \n",
       "4            NaN         NaN              0.0       10.030303      40.000000   \n",
       "5            NaN         NaN              0.0       12.888889      39.666667   \n",
       "6            NaN         NaN              0.0       12.891892            NaN   \n",
       "7            NaN         NaN              0.0       10.111111      39.809524   \n",
       "\n",
       "   target_id  ...                                          PMd_rates  \\\n",
       "0        0.0  ...  [[-1.9331131, -1.2877556, 3.469638, 0.86549777...   \n",
       "1        1.0  ...  [[0.33068848, 0.30995515, 0.9786288, 1.8274931...   \n",
       "2        2.0  ...  [[2.144005, 3.0662735, -3.5667226, 0.4211937, ...   \n",
       "3        3.0  ...  [[0.6689262, 1.9378995, -4.930554, -0.5777424,...   \n",
       "4        4.0  ...  [[0.042261917, 2.6737514, -3.1072714, 0.273100...   \n",
       "5        5.0  ...  [[-0.2938753, -3.2735667, 1.4363017, 0.2449956...   \n",
       "6        6.0  ...  [[-0.9304319, -3.1829326, 1.9320976, -1.714278...   \n",
       "7        7.0  ...  [[0.044720784, 0.09366846, 3.261114, -1.271927...   \n",
       "\n",
       "                                          both_rates  \\\n",
       "0  [[-1.3696721, -8.17678, -1.8215902, 7.19406, 1...   \n",
       "1  [[-1.5509497, -14.624845, -4.9466634, 15.8591,...   \n",
       "2  [[-0.39272383, -15.861117, 9.409875, 12.297246...   \n",
       "3  [[-0.7390504, -15.127533, 11.634172, 4.7115192...   \n",
       "4  [[0.24680635, 0.73268855, -3.4790142, -6.45236...   \n",
       "5  [[3.4484403, 16.93619, -8.270878, -14.445685, ...   \n",
       "6  [[0.4684663, 18.64558, -4.3074555, -12.951932,...   \n",
       "7  [[-0.13307306, 16.701473, 1.5612606, -6.329913...   \n",
       "\n",
       "                                            both_pca  \\\n",
       "0  [[-32.922714, -24.742195, 47.323624, 24.066544...   \n",
       "1  [[-1.7885847, -40.959232, 16.713455, -17.95227...   \n",
       "2  [[47.578182, -27.193237, -20.011093, -44.67074...   \n",
       "3  [[60.19686, 5.285289, -37.22927, -27.143848, 2...   \n",
       "4  [[31.774359, 35.224438, -35.440796, -8.243879,...   \n",
       "5  [[-17.862932, 29.011406, -21.16739, 10.490464,...   \n",
       "6  [[-39.425865, 17.902576, 9.745048, 29.048752, ...   \n",
       "7  [[-41.375572, 8.812376, 34.18511, 31.550438, -...   \n",
       "\n",
       "                                             both_fa  monkey        date task  \\\n",
       "0  [[-0.9041335476682101, 1.1857762358102781], [-...  Chewie  10-21-2016   CO   \n",
       "1  [[0.08670247576651634, 1.5814679452466864], [0...  Chewie  10-21-2016   CO   \n",
       "2  [[1.5625152230599333, 0.7709368620787732], [1....  Chewie  10-21-2016   CO   \n",
       "3  [[1.8338326505312492, -0.6221665423090551], [1...  Chewie  10-21-2016   CO   \n",
       "4  [[0.8343858724865177, -1.5313603161797413], [0...  Chewie  10-21-2016   CO   \n",
       "5  [[-0.5809288659235798, -1.0807256575497501], [...  Chewie  10-21-2016   CO   \n",
       "6  [[-1.2916735978512655, -0.47395377971953057], ...  Chewie  10-21-2016   CO   \n",
       "7  [[-1.365168823147739, 0.00016719903199101846],...  Chewie  10-21-2016   CO   \n",
       "\n",
       "  result perturbation epoch  \n",
       "0      R           CS    BL  \n",
       "1      R           CS    BL  \n",
       "2      R           CS    BL  \n",
       "3      R           CS    BL  \n",
       "4      R           CS    BL  \n",
       "5      R           CS    BL  \n",
       "6      R           CS    BL  \n",
       "7      R           CS    BL  \n",
       "\n",
       "[8 rows x 30 columns]"
      ]
     },
     "execution_count": 21,
     "metadata": {},
     "output_type": "execute_result"
    }
   ],
   "source": [
    "av_per_dir"
   ]
  },
  {
   "cell_type": "markdown",
   "metadata": {},
   "source": [
    "## Plot the trial-averaged projections in 2D"
   ]
  },
  {
   "cell_type": "code",
   "execution_count": 22,
   "metadata": {},
   "outputs": [
    {
     "data": {
      "text/plain": [
       "Text(0.5, 1.0, 'FA')"
      ]
     },
     "execution_count": 22,
     "metadata": {},
     "output_type": "execute_result"
    },
    {
     "data": {
      "image/png": "[encoded data removed]",
      "text/plain": [
       "<Figure size 1440x576 with 2 Axes>"
      ]
     },
     "metadata": {
      "needs_background": "light"
     },
     "output_type": "display_data"
    }
   ],
   "source": [
    "fig, ax = plt.subplots(figsize = (20, 8), ncols = 2)\n",
    "\n",
    "for dir_pca in av_per_dir[\"both_pca\"]:\n",
    "    ax[0].scatter(*dir_pca[:, :2].T)\n",
    "    \n",
    "for dir_fa in av_per_dir[\"both_fa\"]:\n",
    "    ax[1].scatter(*dir_fa[:, :2].T)\n",
    "    \n",
    "ax[0].set_title('PCA')\n",
    "ax[1].set_title('FA')"
   ]
  },
  {
   "cell_type": "markdown",
   "metadata": {},
   "source": [
    "# Decode hand velocities from neural data using linear regression"
   ]
  },
  {
   "cell_type": "code",
   "execution_count": 23,
   "metadata": {},
   "outputs": [],
   "source": [
    "from sklearn.linear_model import Ridge, LinearRegression\n",
    "from sklearn.model_selection import cross_val_score, KFold"
   ]
  },
  {
   "cell_type": "code",
   "execution_count": 24,
   "metadata": {},
   "outputs": [
    {
     "name": "stdout",
     "output_type": "stream",
     "text": [
      "M1_rates:\t0.7958037599526728\n",
      "PMd_rates:\t0.7816888437237783\n",
      "both_rates:\t0.8736722806002012\n",
      "both_pca:\t0.8369492816707991\n"
     ]
    }
   ],
   "source": [
    "for input_field in [\"M1_rates\", \"PMd_rates\", \"both_rates\", \"both_pca\"]:\n",
    "    X = concat_trials(move_td, input_field)\n",
    "    y = concat_trials(move_td, \"vel\")\n",
    "\n",
    "    cv_scores = cross_val_score(LinearRegression(), X, y, cv = KFold(5, shuffle=True))\n",
    "    \n",
    "    print(f\"{input_field}:\\t{cv_scores.mean()}\")"
   ]
  },
  {
   "cell_type": "code",
   "execution_count": null,
   "metadata": {},
   "outputs": [],
   "source": []
  }
 ],
 "metadata": {
  "kernelspec": {
   "display_name": "Python 3.8 (subspaces)",
   "language": "python",
   "name": "subspaces"
  },
  "language_info": {
   "codemirror_mode": {
    "name": "ipython",
    "version": 3
   },
   "file_extension": ".py",
   "mimetype": "text/x-python",
   "name": "python",
   "nbconvert_exporter": "python",
   "pygments_lexer": "ipython3",
   "version": "3.8.8"
  },
  "toc-autonumbering": true
 },
 "nbformat": 4,
 "nbformat_minor": 4
}
